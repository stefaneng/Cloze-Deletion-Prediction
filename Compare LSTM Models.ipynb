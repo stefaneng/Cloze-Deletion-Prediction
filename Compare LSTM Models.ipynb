{
 "cells": [
  {
   "cell_type": "code",
   "execution_count": 2,
   "metadata": {
    "collapsed": false,
    "scrolled": true
   },
   "outputs": [],
   "source": [
    "from keras.models import load_model\n",
    "\n",
    "lstm_model = load_model('./models/atta_lstm.hdf5')\n",
    "blstm_model = load_model('./models/atta_blstm.hdf5')"
   ]
  },
  {
   "cell_type": "code",
   "execution_count": 5,
   "metadata": {
    "collapsed": false
   },
   "outputs": [],
   "source": [
    "from keras.utils import plot_model\n",
    "\n",
    "plot_model(lstm_model, to_file='./results/atta_sample_lstm.png', show_layer_names=True, show_shapes=True)\n",
    "plot_model(blstm_model, to_file='./results/atta_sample_blstm.png', show_layer_names=True, show_shapes=True)"
   ]
  },
  {
   "cell_type": "markdown",
   "metadata": {},
   "source": [
    "![LSTM](./results/atta_sample_lstm.png)"
   ]
  },
  {
   "cell_type": "markdown",
   "metadata": {},
   "source": [
    "![LSTM](./results/atta_sample_blstm.png)"
   ]
  },
  {
   "cell_type": "code",
   "execution_count": 6,
   "metadata": {
    "collapsed": true
   },
   "outputs": [],
   "source": [
    "import pandas as pd"
   ]
  },
  {
   "cell_type": "code",
   "execution_count": 9,
   "metadata": {
    "collapsed": true
   },
   "outputs": [],
   "source": [
    "lstm_df = pd.read_csv('./results/atta_lstm_log.csv', index_col='epoch')\n",
    "blstm_df = pd.read_csv('./results/atta_blstm_log.csv', index_col='epoch')"
   ]
  },
  {
   "cell_type": "code",
   "execution_count": 27,
   "metadata": {
    "collapsed": false
   },
   "outputs": [],
   "source": [
    "import matplotlib.pyplot as plt\n",
    "\n",
    "plt.plot(lstm_df.index, lstm_df['loss'], label='LSTM Loss')\n",
    "plt.plot(lstm_df.index, lstm_df['val_loss'], label='LSTM Val Loss')\n",
    "plt.plot(blstm_df.index, blstm_df['loss'], label='B-LSTM Loss')\n",
    "plt.plot(blstm_df.index, blstm_df['val_loss'], label='B-LSTM Val Loss')\n",
    "plt.title('Comparing Loss from LSTM Models')\n",
    "plt.xlabel('Epoch')\n",
    "plt.ylabel('Cross Entropy Loss')\n",
    "plt.legend()\n",
    "\n",
    "plt.savefig('./results/blstm_compare_loss.png')\n",
    "#plt.show()"
   ]
  },
  {
   "cell_type": "code",
   "execution_count": 30,
   "metadata": {
    "collapsed": false
   },
   "outputs": [],
   "source": [
    "plt.plot(lstm_df.index, lstm_df['acc'], label='LSTM Accuracy')\n",
    "plt.plot(lstm_df.index, lstm_df['val_acc'], label='LSTM Val Accuracy')\n",
    "plt.plot(blstm_df.index, blstm_df['acc'], label='B-LSTM Accuracy')\n",
    "plt.plot(blstm_df.index, blstm_df['val_acc'], label='B-LSTM Val Accuracy')\n",
    "plt.title('Comparing Accuracy from LSTM Models')\n",
    "plt.xlabel('Epoch')\n",
    "plt.ylabel('Accuracy')\n",
    "plt.legend()\n",
    "\n",
    "plt.savefig('./results/blstm_compare_acc.png')\n",
    "#plt.show()"
   ]
  },
  {
   "cell_type": "code",
   "execution_count": null,
   "metadata": {
    "collapsed": true
   },
   "outputs": [],
   "source": []
  }
 ],
 "metadata": {
  "kernelspec": {
   "display_name": "Python 3",
   "language": "python",
   "name": "python3"
  },
  "language_info": {
   "codemirror_mode": {
    "name": "ipython",
    "version": 3
   },
   "file_extension": ".py",
   "mimetype": "text/x-python",
   "name": "python",
   "nbconvert_exporter": "python",
   "pygments_lexer": "ipython3",
   "version": "3.6.0"
  }
 },
 "nbformat": 4,
 "nbformat_minor": 2
}
