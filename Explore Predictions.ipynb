{
 "cells": [
  {
   "cell_type": "markdown",
   "metadata": {},
   "source": [
    "Goal of this is to look at the sentences and correlations between correct predictions and other data fields."
   ]
  },
  {
   "cell_type": "code",
   "execution_count": 2,
   "metadata": {},
   "outputs": [],
   "source": [
    "from keras.models import load_model\n",
    "\n",
    "# Put any of the models here\n",
    "blstm_model = load_model('./models/atta_blstm_dropout6.hdf5')"
   ]
  },
  {
   "cell_type": "code",
   "execution_count": 3,
   "metadata": {},
   "outputs": [
    {
     "name": "stdout",
     "output_type": "stream",
     "text": [
      "Total sentences: 254711\n"
     ]
    }
   ],
   "source": [
    "from utils import *\n",
    "from models import blstm_dropout\n",
    "from keras.preprocessing.text import Tokenizer\n",
    "from keras.utils import to_categorical\n",
    "\n",
    "import pandas as pd\n",
    "import numpy as np\n",
    "\n",
    "atta_df = pd.read_csv('/scratch/gussteen/final_project/attasidor.csv')\n",
    "\n",
    "atta_df['word'] = atta_df['word'].astype(str)\n",
    "atta_all_sents = atta_df.groupby('sent_id')['word'].apply(lambda x: ' '.join(x))\n",
    "\n",
    "print(\"Total sentences:\", len(atta_all_sents))\n",
    "\n",
    "max_words = 10000\n",
    "tokenizer = Tokenizer(num_words=max_words, oov_token='UNK', filters='–—!\"#$%&()*+,-./:;<=>?@[\\]^_`{|}~')\n",
    "tokenizer.fit_on_texts(atta_all_sents)\n",
    "\n",
    "word_lookup = {v: k for k, v in tokenizer.word_index.items()} \n",
    "\n",
    "sentence_list = atta_df.groupby('sent_id')['word'].apply(list)\n",
    "pos_list = atta_df.groupby('sent_id')['pos'].apply(list)\n",
    "\n",
    "X_ids = []\n",
    "X_before = []\n",
    "X_after = []\n",
    "y = []\n",
    "for words, w_pos, s_id in zip(list(sentence_list), list(pos_list), list(sentence_list.index)):\n",
    "    for ex_id, before, after, w in create_training_example(words, w_pos, s_id, tokenizer):\n",
    "        X_ids.append(ex_id)\n",
    "        X_before.append(before)\n",
    "        X_after.append(after)\n",
    "        y.append(w)\n",
    "        \n",
    "X_ids = np.array(X_ids)\n",
    "X_before = np.array(X_before)\n",
    "X_after = np.array(X_after)\n",
    "y_cat = to_categorical(y, num_classes = max_words + 1)"
   ]
  },
  {
   "cell_type": "code",
   "execution_count": 4,
   "metadata": {},
   "outputs": [],
   "source": [
    "# Get the predictions for the training data \n",
    "y_preds = blstm_model.predict([X_before, X_after])"
   ]
  },
  {
   "cell_type": "code",
   "execution_count": 5,
   "metadata": {},
   "outputs": [],
   "source": [
    "cross_ent = - np.sum(y_cat * np.log(y_preds), axis = 1)"
   ]
  },
  {
   "cell_type": "code",
   "execution_count": 6,
   "metadata": {},
   "outputs": [
    {
     "data": {
      "text/plain": [
       "(675621,)"
      ]
     },
     "execution_count": 6,
     "metadata": {},
     "output_type": "execute_result"
    }
   ],
   "source": [
    "cross_ent.shape"
   ]
  },
  {
   "cell_type": "code",
   "execution_count": 7,
   "metadata": {},
   "outputs": [],
   "source": [
    "pred_word = np.argmax(y_preds, axis=1)"
   ]
  },
  {
   "cell_type": "code",
   "execution_count": 8,
   "metadata": {},
   "outputs": [
    {
     "data": {
      "text/plain": [
       "array([ 421, 5099,  328, ...,  394,  640,  147])"
      ]
     },
     "execution_count": 8,
     "metadata": {},
     "output_type": "execute_result"
    }
   ],
   "source": [
    "pred_word"
   ]
  },
  {
   "cell_type": "code",
   "execution_count": 9,
   "metadata": {},
   "outputs": [],
   "source": [
    "results_df = pd.DataFrame()\n",
    "results_df['pred_word'] = pred_word\n",
    "results_df['actual_word'] = y\n",
    "results_df['cross_entropy'] = cross_ent\n",
    "results_df['sent_id'] = X_ids\n",
    "#results_df.index = X_ids"
   ]
  },
  {
   "cell_type": "code",
   "execution_count": 10,
   "metadata": {},
   "outputs": [],
   "source": [
    "results_df['actual_word'] = results_df['actual_word'].apply(lambda i: word_lookup[i[0]])\n",
    "results_df['pred_word'] = results_df['pred_word'].apply(lambda i: word_lookup[i])"
   ]
  },
  {
   "cell_type": "code",
   "execution_count": 11,
   "metadata": {},
   "outputs": [],
   "source": [
    "sent_df = pd.DataFrame()\n",
    "sent_df['sentence'] = atta_all_sents\n",
    "sent_df['word_count'] = atta_df.groupby('sent_id')['word'].apply(len)\n",
    "# Compute average cross_entropy for each sentence\n",
    "sent_df['avg_cross_entropy'] = results_df.groupby('sent_id')['cross_entropy'].mean()"
   ]
  },
  {
   "cell_type": "code",
   "execution_count": 12,
   "metadata": {},
   "outputs": [],
   "source": [
    "import matplotlib.pyplot as plt\n",
    "\n",
    "# Correlation and plot for entropy and sentence length\n",
    "res = sent_df[sent_df['avg_cross_entropy'].notna()][['word_count', 'avg_cross_entropy']]\n",
    "by_wordcount = res.groupby('word_count')['avg_cross_entropy'].agg(['mean','std'])"
   ]
  },
  {
   "cell_type": "code",
   "execution_count": 13,
   "metadata": {},
   "outputs": [
    {
     "data": {
      "image/png": "[encoded data removed]",
      "text/plain": [
       "<Figure size 432x288 with 1 Axes>"
      ]
     },
     "metadata": {},
     "output_type": "display_data"
    }
   ],
   "source": [
    "# by_wordcount_small = by_wordcount[by_wordcount.index < 25]\n",
    "plt.scatter(by_wordcount.index, by_wordcount['mean'])\n",
    "plt.errorbar(by_wordcount.index, by_wordcount['mean'], by_wordcount['std'], ecolor='#d3d3d3')\n",
    "plt.xlabel('Word Count')\n",
    "plt.ylabel('Mean Cross Entropy')\n",
    "plt.title('Cross Entropy by Word Count Group')\n",
    "plt.savefig('./results/cross_entropy_word_count.png')\n",
    "#plt.show()"
   ]
  },
  {
   "cell_type": "code",
   "execution_count": 14,
   "metadata": {},
   "outputs": [],
   "source": [
    "# Gets the minimum entropy for each actual word\n",
    "min_entropy_word = results_df.loc[results_df.groupby('actual_word')['cross_entropy'].idxmin()]"
   ]
  },
  {
   "cell_type": "code",
   "execution_count": 15,
   "metadata": {},
   "outputs": [
    {
     "name": "stdout",
     "output_type": "stream",
     "text": [
      "\\begin{tabular}{ll}\n",
      "\\toprule\n",
      "   actual\\_word &                                                                                                                   sentence \\\\\n",
      "\\midrule\n",
      " eurovision &  Robin Bengtsson får tävla för Sverige i musiktävlingen Eurovision Song Contest i Ukraina maj . \\\\\n",
      " för &  Regeringen föreslår att Centrum för lättläst ska stängas . \\\\\n",
      " eld &  Ungdomar har tänt eld på bilar och kastat sten på poliser och brandmän . \\\\\n",
      " champions &  Zlatans franska klubb PSG spelade oavgjort mot Manchester City i Champions League i fotboll . \\\\\n",
      " vållande &  Han döms inte för mord utan för brottet vållande till annans död . \\\\\n",
      " initiativ &  Feministiskt initiativ fick bara tre procent av rösterna . \\\\\n",
      " nationernas &  Det sade Förenta Nationernas chef Ban Ki-moon på måndagen . \\\\\n",
      " röda &  Kritiken växte när det kom fram att flera chefer i Röda korset också hade väldigt höga löner . \\\\\n",
      " tour &  Ett tag verkade det som om hon skulle missa tävlingen Tour de ski , som \\\\\n",
      " feministiskt &  Människor som gillar partiet Feministiskt initiativ satte fast rosa glasögon av papper på de andra partiernas affischer . \\\\\n",
      " verksamhet &  De som är med i daglig verksamhet får \\\\\n",
      " vicepresident &  Det säger USAs vicepresident Joe Biden . \\\\\n",
      " fronten &  Många tycker att Nationella fronten är ett rasistiskt parti . \\\\\n",
      " ripa &  Helene Ripa vann guld på 15 kilometer i måndags . \\\\\n",
      " nationerna &  Andra länder tycker att Förenta Nationerna ska styra Irak . \\\\\n",
      " procent &  Han vann med nästan 86 procent av rösterna . \\\\\n",
      " hets &  Brottet han dömdes för var hets mot folkgrupp . \\\\\n",
      " huvudstad &  Två bomber sprängdes i Syriens huvudstad Damaskus på onsdagen . \\\\\n",
      " meter &  Sarah Sjöström simmade semifinal på 100 meter frisim bara några minuter före finalen i fjärilsim . \\\\\n",
      " värmer &  De har försökt komma överens om att minska utsläppen av koldioxid som värmer upp jorden . \\\\\n",
      "\\bottomrule\n",
      "\\end{tabular}\n",
      "\n"
     ]
    }
   ],
   "source": [
    "# Join the sentence\n",
    "# Get the top 20 predictions as latex table\n",
    "pd.set_option('display.max_colwidth', -1)\n",
    "print(min_entropy_word.join(sent_df, on='sent_id').sort_values(by='cross_entropy')[['actual_word', 'sentence']].head(20).to_latex(index=False))"
   ]
  }
 ],
 "metadata": {
  "kernelspec": {
   "display_name": "Python 3",
   "language": "python",
   "name": "python3"
  },
  "language_info": {
   "codemirror_mode": {
    "name": "ipython",
    "version": 3
   },
   "file_extension": ".py",
   "mimetype": "text/x-python",
   "name": "python",
   "nbconvert_exporter": "python",
   "pygments_lexer": "ipython3",
   "version": "3.6.6"
  }
 },
 "nbformat": 4,
 "nbformat_minor": 2
}
