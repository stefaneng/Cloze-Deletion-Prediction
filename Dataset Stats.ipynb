{
 "cells": [
  {
   "cell_type": "code",
   "execution_count": 1,
   "metadata": {},
   "outputs": [],
   "source": [
    "import pandas as pd\n",
    "import csv\n",
    "atta_stats = pd.read_csv('./data/stats_ATTASIDOR.txt',\n",
    "                    header = None, delim_whitespace=True, quoting=csv.QUOTE_NONE, encoding='utf-8')\n",
    "gp_stats = pd.read_csv('./data/stats_GP2013.txt',\n",
    "                    header = None, delim_whitespace=True, quoting=csv.QUOTE_NONE, encoding='utf-8')"
   ]
  },
  {
   "cell_type": "code",
   "execution_count": 2,
   "metadata": {},
   "outputs": [],
   "source": [
    "cols = ['ordform', 'ordklass', 'lemgram', 'sammansättningsanalys', 'rå_frekvens', 'rel_frekvens']\n",
    "atta_stats.columns = cols\n",
    "gp_stats.columns = cols"
   ]
  },
  {
   "cell_type": "code",
   "execution_count": 3,
   "metadata": {},
   "outputs": [],
   "source": [
    "atta_stats['pos'] = atta_stats['ordklass'].apply(lambda x: x.split('.')[0])\n",
    "gp_stats['pos'] = gp_stats['ordklass'].apply(lambda x: x.split('.')[0])"
   ]
  },
  {
   "cell_type": "code",
   "execution_count": 4,
   "metadata": {},
   "outputs": [],
   "source": [
    "target_pos = ['JJ', 'VB', 'NN']\n",
    "\n",
    "pos_df = pd.DataFrame()\n",
    "pos_df['GP2013'] = gp_stats.groupby('pos')['pos'].count()[target_pos]\n",
    "pos_df['8Sidor'] = atta_stats.groupby('pos')['pos'].count()[target_pos]"
   ]
  },
  {
   "cell_type": "code",
   "execution_count": 5,
   "metadata": {},
   "outputs": [
    {
     "name": "stdout",
     "output_type": "stream",
     "text": [
      "pos,GP2013,8Sidor\n",
      "JJ,35377,4661\n",
      "VB,42729,9215\n",
      "NN,291292,39844\n",
      "\n"
     ]
    }
   ],
   "source": [
    "print(pos_df.to_csv())"
   ]
  },
  {
   "cell_type": "code",
   "execution_count": 6,
   "metadata": {},
   "outputs": [],
   "source": [
    "atta_df = pd.read_csv('/scratch/gussteen/final_project/attasidor.csv')\n",
    "gp_df = pd.read_csv('/scratch/gussteen/final_project/gp2013_sample.csv')"
   ]
  },
  {
   "cell_type": "code",
   "execution_count": 7,
   "metadata": {},
   "outputs": [
    {
     "data": {
      "text/html": [
       "<div>\n",
       "<style scoped>\n",
       "    .dataframe tbody tr th:only-of-type {\n",
       "        vertical-align: middle;\n",
       "    }\n",
       "\n",
       "    .dataframe tbody tr th {\n",
       "        vertical-align: top;\n",
       "    }\n",
       "\n",
       "    .dataframe thead th {\n",
       "        text-align: right;\n",
       "    }\n",
       "</style>\n",
       "<table border=\"1\" class=\"dataframe\">\n",
       "  <thead>\n",
       "    <tr style=\"text-align: right;\">\n",
       "      <th></th>\n",
       "      <th>lemma</th>\n",
       "      <th>msd</th>\n",
       "      <th>pos</th>\n",
       "      <th>sent_id</th>\n",
       "      <th>word</th>\n",
       "    </tr>\n",
       "  </thead>\n",
       "  <tbody>\n",
       "    <tr>\n",
       "      <th>0</th>\n",
       "      <td>|åtta|</td>\n",
       "      <td>RG.NOM</td>\n",
       "      <td>RG</td>\n",
       "      <td>9a33d49f-9a97adab</td>\n",
       "      <td>Åtta</td>\n",
       "    </tr>\n",
       "    <tr>\n",
       "      <th>1</th>\n",
       "      <td>|politiker|</td>\n",
       "      <td>NN.UTR.PLU.IND.NOM</td>\n",
       "      <td>NN</td>\n",
       "      <td>9a33d49f-9a97adab</td>\n",
       "      <td>politiker</td>\n",
       "    </tr>\n",
       "    <tr>\n",
       "      <th>2</th>\n",
       "      <td>|ställa|ställa upp|</td>\n",
       "      <td>VB.PRS.AKT</td>\n",
       "      <td>VB</td>\n",
       "      <td>9a33d49f-9a97adab</td>\n",
       "      <td>ställer</td>\n",
       "    </tr>\n",
       "    <tr>\n",
       "      <th>3</th>\n",
       "      <td>|upp|ställa upp:3|</td>\n",
       "      <td>PL</td>\n",
       "      <td>PL</td>\n",
       "      <td>9a33d49f-9a97adab</td>\n",
       "      <td>upp</td>\n",
       "    </tr>\n",
       "    <tr>\n",
       "      <th>4</th>\n",
       "      <td>|i|</td>\n",
       "      <td>PP</td>\n",
       "      <td>PP</td>\n",
       "      <td>9a33d49f-9a97adab</td>\n",
       "      <td>i</td>\n",
       "    </tr>\n",
       "  </tbody>\n",
       "</table>\n",
       "</div>"
      ],
      "text/plain": [
       "                 lemma                 msd pos            sent_id       word\n",
       "0               |åtta|              RG.NOM  RG  9a33d49f-9a97adab       Åtta\n",
       "1          |politiker|  NN.UTR.PLU.IND.NOM  NN  9a33d49f-9a97adab  politiker\n",
       "2  |ställa|ställa upp|          VB.PRS.AKT  VB  9a33d49f-9a97adab    ställer\n",
       "3   |upp|ställa upp:3|                  PL  PL  9a33d49f-9a97adab        upp\n",
       "4                  |i|                  PP  PP  9a33d49f-9a97adab          i"
      ]
     },
     "execution_count": 7,
     "metadata": {},
     "output_type": "execute_result"
    }
   ],
   "source": [
    "atta_df.head()"
   ]
  },
  {
   "cell_type": "code",
   "execution_count": 8,
   "metadata": {},
   "outputs": [],
   "source": [
    "atta_sent_len = atta_df.groupby('sent_id')['word'].apply(len)\n",
    "gp_sent_len = gp_df.groupby('sent_id')['word'].apply(len)"
   ]
  },
  {
   "cell_type": "code",
   "execution_count": 11,
   "metadata": {},
   "outputs": [
    {
     "name": "stderr",
     "output_type": "stream",
     "text": [
      "/usr/lib64/python3.6/site-packages/numpy/core/fromnumeric.py:52: FutureWarning: reshape is deprecated and will raise in a subsequent release. Please use .values.reshape(...) instead\n",
      "  return getattr(obj, method)(*args, **kwds)\n"
     ]
    },
    {
     "data": {
      "image/png": "[encoded data removed]",
      "text/plain": [
       "<Figure size 432x288 with 1 Axes>"
      ]
     },
     "metadata": {},
     "output_type": "display_data"
    }
   ],
   "source": [
    "import matplotlib.pyplot as plt\n",
    "import numpy as np\n",
    "bins = np.linspace(0, 40, 40)\n",
    "plt.hist([atta_sent_len, gp_sent_len], bins, alpha = 0.5, label=['8 Sidor', 'GP2013'], density=True)\n",
    "plt.legend()\n",
    "plt.show()"
   ]
  },
  {
   "cell_type": "code",
   "execution_count": 10,
   "metadata": {},
   "outputs": [
    {
     "data": {
      "image/png": "[encoded data removed]",
      "text/plain": [
       "<Figure size 864x432 with 2 Axes>"
      ]
     },
     "metadata": {},
     "output_type": "display_data"
    }
   ],
   "source": [
    "bins = np.linspace(0, 40, 40)\n",
    "fig = plt.figure(1)\n",
    "ax = plt.subplot(121)\n",
    "plt.hist(atta_sent_len, bins, alpha = 0.5, label='8 Sidor', density=True)\n",
    "plt.title('8 Sidor')\n",
    "plt.xlabel('Sentence Word Count')\n",
    "plt.subplot(122, sharey=ax)\n",
    "plt.hist(gp_sent_len, bins, alpha = 0.5, label='GP 2013', density=True)\n",
    "plt.title('GP 2013')\n",
    "plt.xlabel('Sentence Word Count')\n",
    "fig.set_size_inches((12,6))\n",
    "fig.suptitle('Density of Sentence Word Count')\n",
    "plt.savefig('./results/word_count_density.png')"
   ]
  }
 ],
 "metadata": {
  "kernelspec": {
   "display_name": "Python 3",
   "language": "python",
   "name": "python3"
  },
  "language_info": {
   "codemirror_mode": {
    "name": "ipython",
    "version": 3
   },
   "file_extension": ".py",
   "mimetype": "text/x-python",
   "name": "python",
   "nbconvert_exporter": "python",
   "pygments_lexer": "ipython3",
   "version": "3.6.6"
  }
 },
 "nbformat": 4,
 "nbformat_minor": 2
}
