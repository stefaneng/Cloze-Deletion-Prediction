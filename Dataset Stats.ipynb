{
 "cells": [
  {
   "cell_type": "code",
   "execution_count": 1,
   "metadata": {
    "collapsed": true
   },
   "outputs": [],
   "source": [
    "import pandas as pd\n",
    "import csv\n",
    "atta_stats = pd.read_csv('./data/stats_ATTASIDOR.txt',\n",
    "                    header = None, delim_whitespace=True, quoting=csv.QUOTE_NONE, encoding='utf-8')\n",
    "gp_stats = pd.read_csv('./data/stats_GP2013.txt',\n",
    "                    header = None, delim_whitespace=True, quoting=csv.QUOTE_NONE, encoding='utf-8')"
   ]
  },
  {
   "cell_type": "code",
   "execution_count": 3,
   "metadata": {
    "collapsed": false
   },
   "outputs": [],
   "source": [
    "cols = ['ordform', 'ordklass', 'lemgram', 'sammansättningsanalys', 'rå_frekvens', 'rel_frekvens']\n",
    "atta_stats.columns = cols\n",
    "gp_stats.columns = cols"
   ]
  },
  {
   "cell_type": "code",
   "execution_count": 8,
   "metadata": {
    "collapsed": false
   },
   "outputs": [],
   "source": [
    "atta_stats['pos'] = atta_stats['ordklass'].apply(lambda x: x.split('.')[0])\n",
    "gp_stats['pos'] = gp_stats['ordklass'].apply(lambda x: x.split('.')[0])"
   ]
  },
  {
   "cell_type": "code",
   "execution_count": 19,
   "metadata": {
    "collapsed": false
   },
   "outputs": [],
   "source": [
    "target_pos = ['JJ', 'VB', 'NN']\n",
    "\n",
    "pos_df = pd.DataFrame()\n",
    "pos_df['GP2013'] = gp_stats.groupby('pos')['pos'].count()[target_pos]\n",
    "pos_df['8Sidor'] = atta_stats.groupby('pos')['pos'].count()[target_pos]"
   ]
  },
  {
   "cell_type": "code",
   "execution_count": 20,
   "metadata": {
    "collapsed": false
   },
   "outputs": [
    {
     "data": {
      "text/html": [
       "<div>\n",
       "<table border=\"1\" class=\"dataframe\">\n",
       "  <thead>\n",
       "    <tr style=\"text-align: right;\">\n",
       "      <th></th>\n",
       "      <th>GP2013</th>\n",
       "      <th>8Sidor</th>\n",
       "    </tr>\n",
       "    <tr>\n",
       "      <th>pos</th>\n",
       "      <th></th>\n",
       "      <th></th>\n",
       "    </tr>\n",
       "  </thead>\n",
       "  <tbody>\n",
       "    <tr>\n",
       "      <th>JJ</th>\n",
       "      <td>35377</td>\n",
       "      <td>4661</td>\n",
       "    </tr>\n",
       "    <tr>\n",
       "      <th>VB</th>\n",
       "      <td>42729</td>\n",
       "      <td>9215</td>\n",
       "    </tr>\n",
       "    <tr>\n",
       "      <th>NN</th>\n",
       "      <td>291292</td>\n",
       "      <td>39844</td>\n",
       "    </tr>\n",
       "  </tbody>\n",
       "</table>\n",
       "</div>"
      ],
      "text/plain": [
       "     GP2013  8Sidor\n",
       "pos                \n",
       "JJ    35377    4661\n",
       "VB    42729    9215\n",
       "NN   291292   39844"
      ]
     },
     "execution_count": 20,
     "metadata": {},
     "output_type": "execute_result"
    }
   ],
   "source": [
    "pos_df"
   ]
  },
  {
   "cell_type": "code",
   "execution_count": null,
   "metadata": {
    "collapsed": true
   },
   "outputs": [],
   "source": []
  }
 ],
 "metadata": {
  "kernelspec": {
   "display_name": "Python 3",
   "language": "python",
   "name": "python3"
  },
  "language_info": {
   "codemirror_mode": {
    "name": "ipython",
    "version": 3
   },
   "file_extension": ".py",
   "mimetype": "text/x-python",
   "name": "python",
   "nbconvert_exporter": "python",
   "pygments_lexer": "ipython3",
   "version": "3.6.0"
  }
 },
 "nbformat": 4,
 "nbformat_minor": 2
}
