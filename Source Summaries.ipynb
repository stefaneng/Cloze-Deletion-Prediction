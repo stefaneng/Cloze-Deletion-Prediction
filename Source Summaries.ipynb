{
 "cells": [
  {
   "cell_type": "code",
   "execution_count": null,
   "metadata": {},
   "outputs": [],
   "source": [
    "import xml.etree.ElementTree as ET\n",
    "import bz2\n",
    "# Read data into xml etree\n",
    "with bz2.open('./data/gp2d.xml.bz2', 'rb') as bf:\n",
    "    tree = ET.parse(bf)\n",
    "root = tree.getroot()"
   ]
  },
  {
   "cell_type": "code",
   "execution_count": null,
   "metadata": {},
   "outputs": [],
   "source": [
    "rows = []\n",
    "for text in root.findall('text'):    \n",
    "    # Join multiple sentences from same text issue\n",
    "    # curr_sent = []    \n",
    "    for sent in text.getiterator('sentence'):\n",
    "        sent_id = sent.get('id')\n",
    "        \n",
    "        for word in sent.getiterator('w'):\n",
    "            r = word.attrib\n",
    "            r['sent_id'] = sent_id\n",
    "            r['word'] = word.text\n",
    "            rows.append(r)"
   ]
  },
  {
   "cell_type": "code",
   "execution_count": null,
   "metadata": {},
   "outputs": [],
   "source": [
    "import pandas as pd\n",
    "whole_df = pd.DataFrame(rows)"
   ]
  },
  {
   "cell_type": "code",
   "execution_count": null,
   "metadata": {},
   "outputs": [],
   "source": [
    "whole_df.head()"
   ]
  },
  {
   "cell_type": "code",
   "execution_count": null,
   "metadata": {},
   "outputs": [],
   "source": [
    "df = whole_df[['word', 'sent_id', 'pos', 'sense', 'msd']].copy()"
   ]
  },
  {
   "cell_type": "code",
   "execution_count": null,
   "metadata": {},
   "outputs": [],
   "source": [
    "import re\n",
    "\n",
    "def first_lemma(word_lemma):\n",
    "    word, lemma = word_lemma\n",
    "    m = re.findall(r'\\|(\\w+)\\|', lemma)\n",
    "    if len(m) >= 1:\n",
    "        return m[0]\n",
    "    else:\n",
    "        return word\n",
    "\n",
    "df['first_lemma'] = whole_df[['word', 'lemma']].apply(first_lemma, axis=1)"
   ]
  },
  {
   "cell_type": "code",
   "execution_count": null,
   "metadata": {},
   "outputs": [],
   "source": [
    "print(\"Unique lemmas:\", len(df['first_lemma'].unique()))\n",
    "print(\"Unique word forms:\", len(df['word'].unique()))"
   ]
  },
  {
   "cell_type": "code",
   "execution_count": null,
   "metadata": {},
   "outputs": [],
   "source": [
    "sent_group = df.groupby('sent_id')\n",
    "word_count = sent_group['word'].count()"
   ]
  },
  {
   "cell_type": "code",
   "execution_count": null,
   "metadata": {},
   "outputs": [],
   "source": [
    "print(\"Min word count:\", word_count.min())\n",
    "print(\"Mean word count:\", word_count.mean())\n",
    "print(\"Median word count:\", word_count.median())\n",
    "print(\"Max word count:\", word_count.max())"
   ]
  },
  {
   "cell_type": "code",
   "execution_count": null,
   "metadata": {},
   "outputs": [],
   "source": [
    "\" \".join(df[df['sent_id'] == word_count.argmax()]['word'])"
   ]
  },
  {
   "cell_type": "code",
   "execution_count": null,
   "metadata": {},
   "outputs": [],
   "source": [
    "import matplotlib.pyplot as plt\n",
    "\n",
    "plt.hist(word_count)\n",
    "plt.show()"
   ]
  },
  {
   "cell_type": "code",
   "execution_count": null,
   "metadata": {},
   "outputs": [],
   "source": [
    "import xml.etree.ElementTree as ET\n",
    "import bz2\n",
    "import random\n",
    "\n",
    "\n",
    "def sample_xml(filepath, sample_percent = 0.15, keep_attrs = ['lemma', 'msd', 'pos']):\n",
    "    rows = []\n",
    "    keep_sample = False\n",
    "    total = 0\n",
    "    replaced = 0\n",
    "    with bz2.open(filepath, 'rb') as bf:\n",
    "        for event, elem in ET.iterparse(bf, events=('start', 'end', 'start-ns', 'end-ns')):\n",
    "            if event == \"start\" and elem.tag == \"sentence\":\n",
    "                total += 1\n",
    "                keep_sample = random.random() < sample_percent\n",
    "                if keep_sample:\n",
    "                    replaced += 1\n",
    "                    sent_id = elem.get('id')\n",
    "                    for word in elem.getiterator('w'):\n",
    "                        r = {k: word.attrib[k] for k in keep_attrs}\n",
    "                        r['sent_id'] = sent_id\n",
    "                        r['word'] = word.text\n",
    "                        rows.append(r)\n",
    "\n",
    "    print(\"Total sentences: {}\\tSampled sentences: {}\".format(total, replaced))\n",
    "    return rows\n",
    "                \n",
    "# gp2013_rows = sample_xml('/scratch/gussteen/final_project/gp2013.xml.bz2')\n",
    "# Take all the rows\n",
    "atta_rows = sample_xml('/scratch/gussteen/final_project/attasidor.xml.bz2', sample_percent=1.0)"
   ]
  },
  {
   "cell_type": "code",
   "execution_count": null,
   "metadata": {},
   "outputs": [],
   "source": [
    "import pandas as pd\n",
    "\n",
    "atta_df = pd.DataFrame(atta_rows)\n",
    "\n",
    "with open('/scratch/gussteen/final_project/attasidor.csv', 'w+') as f:\n",
    "    atta_df.to_csv(f, index=False)"
   ]
  },
  {
   "cell_type": "code",
   "execution_count": null,
   "metadata": {},
   "outputs": [],
   "source": [
    "atta_sent_count = len(atta_df['sent_id'].unique())\n",
    "print(\"Sentences in 8 Sidor:\", atta_sent_count)"
   ]
  },
  {
   "cell_type": "code",
   "execution_count": 3,
   "metadata": {},
   "outputs": [
    {
     "ename": "KeyboardInterrupt",
     "evalue": "",
     "output_type": "error",
     "traceback": [
      "\u001b[0;31m----------------------------------------------------------\u001b[0m",
      "\u001b[0;31mKeyboardInterrupt\u001b[0m        Traceback (most recent call last)",
      "\u001b[0;32m<ipython-input-3-98e661d33b4a>\u001b[0m in \u001b[0;36m<module>\u001b[0;34m()\u001b[0m\n\u001b[1;32m     38\u001b[0m     \u001b[0;32mreturn\u001b[0m \u001b[0mlist\u001b[0m\u001b[0;34m(\u001b[0m\u001b[0mchain\u001b[0m\u001b[0;34m(\u001b[0m\u001b[0;34m*\u001b[0m\u001b[0mrows\u001b[0m\u001b[0;34m)\u001b[0m\u001b[0;34m)\u001b[0m\u001b[0;34m\u001b[0m\u001b[0m\n\u001b[1;32m     39\u001b[0m \u001b[0;34m\u001b[0m\u001b[0m\n\u001b[0;32m---> 40\u001b[0;31m \u001b[0mgp2013_rows\u001b[0m \u001b[0;34m=\u001b[0m \u001b[0mreservoir_sample\u001b[0m\u001b[0;34m(\u001b[0m\u001b[0;34m'/scratch/gussteen/final_project/gp2013.xml.bz2'\u001b[0m\u001b[0;34m,\u001b[0m \u001b[0;36m254711\u001b[0m\u001b[0;34m)\u001b[0m\u001b[0;34m\u001b[0m\u001b[0m\n\u001b[0m",
      "\u001b[0;32m<ipython-input-3-98e661d33b4a>\u001b[0m in \u001b[0;36mreservoir_sample\u001b[0;34m(filepath, number_rows, keep_attrs)\u001b[0m\n\u001b[1;32m     13\u001b[0m     \u001b[0mreplaced\u001b[0m \u001b[0;34m=\u001b[0m \u001b[0;36m0\u001b[0m\u001b[0;34m\u001b[0m\u001b[0m\n\u001b[1;32m     14\u001b[0m     \u001b[0;32mwith\u001b[0m \u001b[0mbz2\u001b[0m\u001b[0;34m.\u001b[0m\u001b[0mopen\u001b[0m\u001b[0;34m(\u001b[0m\u001b[0mfilepath\u001b[0m\u001b[0;34m,\u001b[0m \u001b[0;34m'rb'\u001b[0m\u001b[0;34m)\u001b[0m \u001b[0;32mas\u001b[0m \u001b[0mbf\u001b[0m\u001b[0;34m:\u001b[0m\u001b[0;34m\u001b[0m\u001b[0m\n\u001b[0;32m---> 15\u001b[0;31m         \u001b[0;32mfor\u001b[0m \u001b[0mevent\u001b[0m\u001b[0;34m,\u001b[0m \u001b[0melem\u001b[0m \u001b[0;32min\u001b[0m \u001b[0mET\u001b[0m\u001b[0;34m.\u001b[0m\u001b[0miterparse\u001b[0m\u001b[0;34m(\u001b[0m\u001b[0mbf\u001b[0m\u001b[0;34m,\u001b[0m \u001b[0mevents\u001b[0m\u001b[0;34m=\u001b[0m\u001b[0;34m(\u001b[0m\u001b[0;34m'start'\u001b[0m\u001b[0;34m,\u001b[0m \u001b[0;34m'end'\u001b[0m\u001b[0;34m,\u001b[0m \u001b[0;34m'start-ns'\u001b[0m\u001b[0;34m,\u001b[0m \u001b[0;34m'end-ns'\u001b[0m\u001b[0;34m)\u001b[0m\u001b[0;34m)\u001b[0m\u001b[0;34m:\u001b[0m\u001b[0;34m\u001b[0m\u001b[0m\n\u001b[0m\u001b[1;32m     16\u001b[0m             \u001b[0;32mif\u001b[0m \u001b[0mevent\u001b[0m \u001b[0;34m==\u001b[0m \u001b[0;34m\"start\"\u001b[0m \u001b[0;32mand\u001b[0m \u001b[0melem\u001b[0m\u001b[0;34m.\u001b[0m\u001b[0mtag\u001b[0m \u001b[0;34m==\u001b[0m \u001b[0;34m\"sentence\"\u001b[0m\u001b[0;34m:\u001b[0m\u001b[0;34m\u001b[0m\u001b[0m\n\u001b[1;32m     17\u001b[0m                 \u001b[0mj\u001b[0m \u001b[0;34m=\u001b[0m \u001b[0mrandom\u001b[0m\u001b[0;34m.\u001b[0m\u001b[0mrandint\u001b[0m\u001b[0;34m(\u001b[0m\u001b[0;36m0\u001b[0m\u001b[0;34m,\u001b[0m \u001b[0mi\u001b[0m\u001b[0;34m)\u001b[0m\u001b[0;34m\u001b[0m\u001b[0m\n",
      "\u001b[0;32m/usr/lib64/python3.6/xml/etree/ElementTree.py\u001b[0m in \u001b[0;36miterator\u001b[0;34m()\u001b[0m\n\u001b[1;32m   1224\u001b[0m                 \u001b[0;32mif\u001b[0m \u001b[0;32mnot\u001b[0m \u001b[0mdata\u001b[0m\u001b[0;34m:\u001b[0m\u001b[0;34m\u001b[0m\u001b[0m\n\u001b[1;32m   1225\u001b[0m                     \u001b[0;32mbreak\u001b[0m\u001b[0;34m\u001b[0m\u001b[0m\n\u001b[0;32m-> 1226\u001b[0;31m                 \u001b[0mpullparser\u001b[0m\u001b[0;34m.\u001b[0m\u001b[0mfeed\u001b[0m\u001b[0;34m(\u001b[0m\u001b[0mdata\u001b[0m\u001b[0;34m)\u001b[0m\u001b[0;34m\u001b[0m\u001b[0m\n\u001b[0m\u001b[1;32m   1227\u001b[0m             \u001b[0mroot\u001b[0m \u001b[0;34m=\u001b[0m \u001b[0mpullparser\u001b[0m\u001b[0;34m.\u001b[0m\u001b[0m_close_and_return_root\u001b[0m\u001b[0;34m(\u001b[0m\u001b[0;34m)\u001b[0m\u001b[0;34m\u001b[0m\u001b[0m\n\u001b[1;32m   1228\u001b[0m             \u001b[0;32myield\u001b[0m \u001b[0;32mfrom\u001b[0m \u001b[0mpullparser\u001b[0m\u001b[0;34m.\u001b[0m\u001b[0mread_events\u001b[0m\u001b[0;34m(\u001b[0m\u001b[0;34m)\u001b[0m\u001b[0;34m\u001b[0m\u001b[0m\n",
      "\u001b[0;32m/usr/lib64/python3.6/xml/etree/ElementTree.py\u001b[0m in \u001b[0;36mfeed\u001b[0;34m(self, data)\u001b[0m\n\u001b[1;32m   1266\u001b[0m         \u001b[0;32mif\u001b[0m \u001b[0mdata\u001b[0m\u001b[0;34m:\u001b[0m\u001b[0;34m\u001b[0m\u001b[0m\n\u001b[1;32m   1267\u001b[0m             \u001b[0;32mtry\u001b[0m\u001b[0;34m:\u001b[0m\u001b[0;34m\u001b[0m\u001b[0m\n\u001b[0;32m-> 1268\u001b[0;31m                 \u001b[0mself\u001b[0m\u001b[0;34m.\u001b[0m\u001b[0m_parser\u001b[0m\u001b[0;34m.\u001b[0m\u001b[0mfeed\u001b[0m\u001b[0;34m(\u001b[0m\u001b[0mdata\u001b[0m\u001b[0;34m)\u001b[0m\u001b[0;34m\u001b[0m\u001b[0m\n\u001b[0m\u001b[1;32m   1269\u001b[0m             \u001b[0;32mexcept\u001b[0m \u001b[0mSyntaxError\u001b[0m \u001b[0;32mas\u001b[0m \u001b[0mexc\u001b[0m\u001b[0;34m:\u001b[0m\u001b[0;34m\u001b[0m\u001b[0m\n\u001b[1;32m   1270\u001b[0m                 \u001b[0mself\u001b[0m\u001b[0;34m.\u001b[0m\u001b[0m_events_queue\u001b[0m\u001b[0;34m.\u001b[0m\u001b[0mappend\u001b[0m\u001b[0;34m(\u001b[0m\u001b[0mexc\u001b[0m\u001b[0;34m)\u001b[0m\u001b[0;34m\u001b[0m\u001b[0m\n",
      "\u001b[0;31mKeyboardInterrupt\u001b[0m: "
     ]
    }
   ],
   "source": [
    "import xml.etree.ElementTree as ET\n",
    "import bz2\n",
    "import random\n",
    "\n",
    "from itertools import chain\n",
    "\n",
    "def reservoir_sample(filepath, number_rows, keep_attrs = ['lemma', 'msd', 'pos']):\n",
    "    # Initialize the sample\n",
    "    rows = [[]] * number_rows\n",
    "    \n",
    "    keep_sample = False\n",
    "    i = 0\n",
    "    replaced = 0\n",
    "    with bz2.open(filepath, 'rb') as bf:\n",
    "        for event, elem in ET.iterparse(bf, events=('start', 'end', 'start-ns', 'end-ns')):\n",
    "            if event == \"start\" and elem.tag == \"sentence\":                \n",
    "                j = random.randint(0, i)\n",
    "                init_sample = i < number_rows\n",
    "                replace_sample = i >= number_rows and j < number_rows\n",
    "                keep_sample = init_sample or replace_sample\n",
    "                if keep_sample:\n",
    "                    if replace_sample:\n",
    "                        # Reset the index and replace with new sentence\n",
    "                        replaced += 1\n",
    "                        rows[j] = []\n",
    "                    sent_id = elem.get('id')\n",
    "                    for word in elem.getiterator('w'):\n",
    "                        r = {k: word.attrib[k] for k in keep_attrs}\n",
    "                        r['sent_id'] = sent_id\n",
    "                        r['word'] = word.text\n",
    "                        if replace_sample:                                                        \n",
    "                            rows[j].append(r)\n",
    "                        else:\n",
    "                            rows[i].append(r)                              \n",
    "                i += 1\n",
    "\n",
    "    print(\"Found total sentences: {}\\t Replaced: {}\".format(i, replaced))\n",
    "    return list(chain(*rows))\n",
    "\n",
    "gp2013_rows = reservoir_sample('/scratch/gussteen/final_project/gp2013.xml.bz2', 254711)"
   ]
  },
  {
   "cell_type": "code",
   "execution_count": null,
   "metadata": {},
   "outputs": [],
   "source": [
    "gp2013_df = pd.DataFrame(gp2013_rows)\n",
    "\n",
    "with open('/scratch/gussteen/final_project/gp2013_sample.csv', 'w+') as f:\n",
    "    gp2013_df.to_csv(f, index=False)"
   ]
  },
  {
   "cell_type": "code",
   "execution_count": null,
   "metadata": {},
   "outputs": [],
   "source": [
    "gp2013_sent_count = len(gp2013_df['sent_id'].unique())\n",
    "print(\"Sentences in GP2013:\", gp2013_sent_count)"
   ]
  },
  {
   "cell_type": "code",
   "execution_count": null,
   "metadata": {},
   "outputs": [],
   "source": [
    "gp2013_df.head()"
   ]
  },
  {
   "cell_type": "code",
   "execution_count": null,
   "metadata": {},
   "outputs": [],
   "source": [
    "atta_df.head(100)"
   ]
  },
  {
   "cell_type": "code",
   "execution_count": null,
   "metadata": {},
   "outputs": [],
   "source": [
    "atta_sent_count = len(atta_df['sent_id'].unique())\n",
    "print(\"Sentences in 8 Sidor sample:\", atta_sent_count)"
   ]
  },
  {
   "cell_type": "code",
   "execution_count": null,
   "metadata": {},
   "outputs": [],
   "source": [
    "import pandas as pd\n",
    "\n",
    "gp2013_df = pd.DataFrame(rows)\n",
    "\n",
    "with open('./gp2013_sample.csv', 'w+') as f:\n",
    "    gp2013_df.to_csv(f, index=False)"
   ]
  },
  {
   "cell_type": "code",
   "execution_count": null,
   "metadata": {},
   "outputs": [],
   "source": [
    "del gp2013_df\n",
    "gp2013_df = pd.read_csv('./gp2013_sample.csv')"
   ]
  },
  {
   "cell_type": "code",
   "execution_count": null,
   "metadata": {},
   "outputs": [],
   "source": [
    "gp2013_df"
   ]
  },
  {
   "cell_type": "code",
   "execution_count": null,
   "metadata": {},
   "outputs": [],
   "source": []
  }
 ],
 "metadata": {
  "kernelspec": {
   "display_name": "Python 3",
   "language": "python",
   "name": "python3"
  },
  "language_info": {
   "codemirror_mode": {
    "name": "ipython",
    "version": 3
   },
   "file_extension": ".py",
   "mimetype": "text/x-python",
   "name": "python",
   "nbconvert_exporter": "python",
   "pygments_lexer": "ipython3",
   "version": "3.6.6"
  }
 },
 "nbformat": 4,
 "nbformat_minor": 2
}
