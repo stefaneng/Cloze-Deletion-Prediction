{
 "cells": [
  {
   "cell_type": "code",
   "execution_count": 1,
   "metadata": {
    "collapsed": true
   },
   "outputs": [],
   "source": [
    "import xml.etree.ElementTree as ET\n",
    "import bz2\n",
    "# Read data into xml etree\n",
    "with bz2.open('./data/gp2d.xml.bz2', 'rb') as bf:\n",
    "    tree = ET.parse(bf)\n",
    "root = tree.getroot()"
   ]
  },
  {
   "cell_type": "code",
   "execution_count": 9,
   "metadata": {
    "collapsed": false
   },
   "outputs": [],
   "source": [
    "rows = []\n",
    "for text in root.findall('text'):    \n",
    "    # Join multiple sentences from same text issue\n",
    "    # curr_sent = []    \n",
    "    for sent in text.getiterator('sentence'):\n",
    "        sent_id = sent.get('id')\n",
    "        \n",
    "        for word in sent.getiterator('w'):\n",
    "            r = word.attrib\n",
    "            r['sent_id'] = sent_id\n",
    "            r['word'] = word.text\n",
    "            rows.append(r)"
   ]
  },
  {
   "cell_type": "code",
   "execution_count": 71,
   "metadata": {
    "collapsed": false
   },
   "outputs": [],
   "source": [
    "import pandas as pd\n",
    "whole_df = pd.DataFrame(rows)"
   ]
  },
  {
   "cell_type": "code",
   "execution_count": 72,
   "metadata": {
    "collapsed": false
   },
   "outputs": [
    {
     "data": {
      "text/html": [
       "<div>\n",
       "<table border=\"1\" class=\"dataframe\">\n",
       "  <thead>\n",
       "    <tr style=\"text-align: right;\">\n",
       "      <th></th>\n",
       "      <th>blingbring</th>\n",
       "      <th>complemgram</th>\n",
       "      <th>compwf</th>\n",
       "      <th>dephead</th>\n",
       "      <th>deprel</th>\n",
       "      <th>lemma</th>\n",
       "      <th>lex</th>\n",
       "      <th>msd</th>\n",
       "      <th>pos</th>\n",
       "      <th>prefix</th>\n",
       "      <th>ref</th>\n",
       "      <th>sense</th>\n",
       "      <th>sent_id</th>\n",
       "      <th>sentiment</th>\n",
       "      <th>sentimentclass</th>\n",
       "      <th>suffix</th>\n",
       "      <th>swefn</th>\n",
       "      <th>word</th>\n",
       "    </tr>\n",
       "  </thead>\n",
       "  <tbody>\n",
       "    <tr>\n",
       "      <th>0</th>\n",
       "      <td>|</td>\n",
       "      <td>|</td>\n",
       "      <td>|</td>\n",
       "      <td>2</td>\n",
       "      <td>DT</td>\n",
       "      <td>|åtta|</td>\n",
       "      <td>|åtta..nl.1|</td>\n",
       "      <td>RG.NOM</td>\n",
       "      <td>RG</td>\n",
       "      <td>|</td>\n",
       "      <td>1</td>\n",
       "      <td>|åtta..1:-1.000|</td>\n",
       "      <td>9a33d49f-9a97adab</td>\n",
       "      <td>0.6619</td>\n",
       "      <td>neutral</td>\n",
       "      <td>|</td>\n",
       "      <td>|</td>\n",
       "      <td>Åtta</td>\n",
       "    </tr>\n",
       "    <tr>\n",
       "      <th>1</th>\n",
       "      <td>|förfarande|mästare|planmässighet|slughet|</td>\n",
       "      <td>|</td>\n",
       "      <td>|</td>\n",
       "      <td>3</td>\n",
       "      <td>SS</td>\n",
       "      <td>|politiker|</td>\n",
       "      <td>|politiker..nn.1|</td>\n",
       "      <td>NN.UTR.PLU.IND.NOM</td>\n",
       "      <td>NN</td>\n",
       "      <td>|</td>\n",
       "      <td>2</td>\n",
       "      <td>|politiker..1:-1.000|</td>\n",
       "      <td>9a33d49f-9a97adab</td>\n",
       "      <td>0.4601</td>\n",
       "      <td>neutral</td>\n",
       "      <td>|</td>\n",
       "      <td>|People_by_vocation|</td>\n",
       "      <td>politiker</td>\n",
       "    </tr>\n",
       "    <tr>\n",
       "      <th>2</th>\n",
       "      <td>|ledning|lägebestämning|lägeförändring|</td>\n",
       "      <td>|ställ..nn.1+le..vb.1:2.386e-13|ställa..vb.1+l...</td>\n",
       "      <td>|ställ+ler|</td>\n",
       "      <td>NaN</td>\n",
       "      <td>ROOT</td>\n",
       "      <td>|ställa|ställa upp|</td>\n",
       "      <td>|ställa..vb.1|ställa_upp..vbm.1|</td>\n",
       "      <td>VB.PRS.AKT</td>\n",
       "      <td>VB</td>\n",
       "      <td>|ställ..nn.1|ställa..vb.1|</td>\n",
       "      <td>3</td>\n",
       "      <td>|ställa..1:0.969|uppställa..1:0.021|ställa..4:...</td>\n",
       "      <td>9a33d49f-9a97adab</td>\n",
       "      <td>0.99219</td>\n",
       "      <td>neutral</td>\n",
       "      <td>|le..vb.1|</td>\n",
       "      <td>|Placing|</td>\n",
       "      <td>ställer</td>\n",
       "    </tr>\n",
       "    <tr>\n",
       "      <th>3</th>\n",
       "      <td>|</td>\n",
       "      <td>|</td>\n",
       "      <td>|</td>\n",
       "      <td>3</td>\n",
       "      <td>PL</td>\n",
       "      <td>|upp|ställa upp:3|</td>\n",
       "      <td>|upp..ab.1|ställa_upp..vbm.1:3|</td>\n",
       "      <td>PL</td>\n",
       "      <td>PL</td>\n",
       "      <td>|</td>\n",
       "      <td>4</td>\n",
       "      <td>|upp..1:1.000|uppställa..1:3:0.000|ställa_upp....</td>\n",
       "      <td>9a33d49f-9a97adab</td>\n",
       "      <td>0.0614</td>\n",
       "      <td>neutral</td>\n",
       "      <td>|</td>\n",
       "      <td>|</td>\n",
       "      <td>upp</td>\n",
       "    </tr>\n",
       "    <tr>\n",
       "      <th>4</th>\n",
       "      <td>|</td>\n",
       "      <td>|</td>\n",
       "      <td>|</td>\n",
       "      <td>3</td>\n",
       "      <td>OA</td>\n",
       "      <td>|i|</td>\n",
       "      <td>|i..pp.1|</td>\n",
       "      <td>PP</td>\n",
       "      <td>PP</td>\n",
       "      <td>|</td>\n",
       "      <td>5</td>\n",
       "      <td>|i..2:-1.000|</td>\n",
       "      <td>9a33d49f-9a97adab</td>\n",
       "      <td>0.836</td>\n",
       "      <td>neutral</td>\n",
       "      <td>|</td>\n",
       "      <td>|</td>\n",
       "      <td>i</td>\n",
       "    </tr>\n",
       "  </tbody>\n",
       "</table>\n",
       "</div>"
      ],
      "text/plain": [
       "                                   blingbring  \\\n",
       "0                                           |   \n",
       "1  |förfarande|mästare|planmässighet|slughet|   \n",
       "2     |ledning|lägebestämning|lägeförändring|   \n",
       "3                                           |   \n",
       "4                                           |   \n",
       "\n",
       "                                         complemgram       compwf dephead  \\\n",
       "0                                                  |            |       2   \n",
       "1                                                  |            |       3   \n",
       "2  |ställ..nn.1+le..vb.1:2.386e-13|ställa..vb.1+l...  |ställ+ler|     NaN   \n",
       "3                                                  |            |       3   \n",
       "4                                                  |            |       3   \n",
       "\n",
       "  deprel                lemma                               lex  \\\n",
       "0     DT               |åtta|                      |åtta..nl.1|   \n",
       "1     SS          |politiker|                 |politiker..nn.1|   \n",
       "2   ROOT  |ställa|ställa upp|  |ställa..vb.1|ställa_upp..vbm.1|   \n",
       "3     PL   |upp|ställa upp:3|   |upp..ab.1|ställa_upp..vbm.1:3|   \n",
       "4     OA                  |i|                         |i..pp.1|   \n",
       "\n",
       "                  msd pos                      prefix ref  \\\n",
       "0              RG.NOM  RG                           |   1   \n",
       "1  NN.UTR.PLU.IND.NOM  NN                           |   2   \n",
       "2          VB.PRS.AKT  VB  |ställ..nn.1|ställa..vb.1|   3   \n",
       "3                  PL  PL                           |   4   \n",
       "4                  PP  PP                           |   5   \n",
       "\n",
       "                                               sense            sent_id  \\\n",
       "0                                   |åtta..1:-1.000|  9a33d49f-9a97adab   \n",
       "1                              |politiker..1:-1.000|  9a33d49f-9a97adab   \n",
       "2  |ställa..1:0.969|uppställa..1:0.021|ställa..4:...  9a33d49f-9a97adab   \n",
       "3  |upp..1:1.000|uppställa..1:3:0.000|ställa_upp....  9a33d49f-9a97adab   \n",
       "4                                      |i..2:-1.000|  9a33d49f-9a97adab   \n",
       "\n",
       "  sentiment sentimentclass      suffix                 swefn       word  \n",
       "0    0.6619        neutral           |                     |       Åtta  \n",
       "1    0.4601        neutral           |  |People_by_vocation|  politiker  \n",
       "2   0.99219        neutral  |le..vb.1|             |Placing|    ställer  \n",
       "3    0.0614        neutral           |                     |        upp  \n",
       "4     0.836        neutral           |                     |          i  "
      ]
     },
     "execution_count": 72,
     "metadata": {},
     "output_type": "execute_result"
    }
   ],
   "source": [
    "whole_df.head()"
   ]
  },
  {
   "cell_type": "code",
   "execution_count": 82,
   "metadata": {
    "collapsed": true
   },
   "outputs": [],
   "source": [
    "df = whole_df[['word', 'sent_id', 'pos', 'sense', 'msd']].copy()"
   ]
  },
  {
   "cell_type": "code",
   "execution_count": 89,
   "metadata": {
    "collapsed": false
   },
   "outputs": [],
   "source": [
    "import re\n",
    "\n",
    "def first_lemma(word_lemma):\n",
    "    word, lemma = word_lemma\n",
    "    m = re.findall(r'\\|(\\w+)\\|', lemma)\n",
    "    if len(m) >= 1:\n",
    "        return m[0]\n",
    "    else:\n",
    "        return word\n",
    "\n",
    "df['first_lemma'] = whole_df[['word', 'lemma']].apply(first_lemma, axis=1)"
   ]
  },
  {
   "cell_type": "code",
   "execution_count": 90,
   "metadata": {
    "collapsed": false
   },
   "outputs": [
    {
     "name": "stdout",
     "output_type": "stream",
     "text": [
      "Unique lemmas: 43566\n",
      "Unique word forms: 64340\n"
     ]
    }
   ],
   "source": [
    "print(\"Unique lemmas:\", len(df['first_lemma'].unique()))\n",
    "print(\"Unique word forms:\", len(df['word'].unique()))"
   ]
  },
  {
   "cell_type": "code",
   "execution_count": 91,
   "metadata": {
    "collapsed": false
   },
   "outputs": [],
   "source": [
    "sent_group = df.groupby('sent_id')\n",
    "word_count = sent_group['word'].count()"
   ]
  },
  {
   "cell_type": "code",
   "execution_count": 92,
   "metadata": {
    "collapsed": false
   },
   "outputs": [
    {
     "name": "stdout",
     "output_type": "stream",
     "text": [
      "Min word count: 1\n",
      "Mean word count: 10.928627090920314\n",
      "Median word count: 10.0\n",
      "Max word count: 140\n"
     ]
    }
   ],
   "source": [
    "print(\"Min word count:\", word_count.min())\n",
    "print(\"Mean word count:\", word_count.mean())\n",
    "print(\"Median word count:\", word_count.median())\n",
    "print(\"Max word count:\", word_count.max())"
   ]
  },
  {
   "cell_type": "code",
   "execution_count": 101,
   "metadata": {
    "collapsed": false
   },
   "outputs": [
    {
     "data": {
      "text/plain": [
       "'Vecka 33 : Många förslag om skolan Vecka 32 : Spurten har börjat Vecka 31 : Mycket politik på Pride Vecka 27-30 : Sommar Vecka 26 : Nu börjar årets politiska vecka Vecka 25 : Tidningar och tv är politik Vecka 24 : Partierna pratar feminism Vecka 23 : Många klagade på mötet Vecka 22 : Många är ledsna efter valet Vecka 21 : Européer går och röstar Vecka 20 : Partiets möten stoppas Vecka 19 : Valet har börjat Vecka 18 : De lovar sänkt skatt Vecka 17 : Bråk om nya vapen Vecka 16 : Påsk Vecka 15 : Bråk om statens pengar Vecka 14 : Nya förslag om pengarna Vecka 13 : Vi lär oss om EU Vecka 12 : Knäckebröd startade debatt Vecka 11 : Mindre bråk om skolan Vecka 10 : Alla pratar om försvaret'"
      ]
     },
     "execution_count": 101,
     "metadata": {},
     "output_type": "execute_result"
    }
   ],
   "source": [
    "\" \".join(df[df['sent_id'] == word_count.argmax()]['word'])"
   ]
  },
  {
   "cell_type": "code",
   "execution_count": 96,
   "metadata": {
    "collapsed": false
   },
   "outputs": [
    {
     "data": {
      "image/png": "[encoded data removed]",
      "text/plain": [
       "<matplotlib.figure.Figure at 0x1f13ad3c8>"
      ]
     },
     "metadata": {},
     "output_type": "display_data"
    }
   ],
   "source": [
    "import matplotlib.pyplot as plt\n",
    "\n",
    "plt.hist(word_count)\n",
    "plt.show()"
   ]
  },
  {
   "cell_type": "code",
   "execution_count": null,
   "metadata": {
    "collapsed": false
   },
   "outputs": [],
   "source": [
    "import xml.etree.ElementTree as ET\n",
    "import bz2\n",
    "import random\n",
    "\n",
    "\n",
    "# Only sample ~ 30% of the data\n",
    "sample_percent = 0.3\n",
    "rows = []\n",
    "keep_attrs = ['lemma', 'msd', 'pos']\n",
    "keep_sample = False\n",
    "with bz2.open('./data/gp2013.xml.bz2', 'rb') as bf:\n",
    "    for event, elem in ET.iterparse(bf, events=('start', 'end', 'start-ns', 'end-ns')):\n",
    "        if event == \"start\" and elem.tag == \"sentence\":\n",
    "            keep_sample = random.random() < sample_percent\n",
    "            sent_id = elem.get('id')            \n",
    "        \n",
    "        if event == \"start\" and keep_sample and elem.tag == \"w\":\n",
    "            r = {k: elem.attrib[k] for k in keep_attrs}\n",
    "            r['sent_id'] = sent_id\n",
    "            r['word'] = elem.text\n",
    "            rows.append(r)"
   ]
  },
  {
   "cell_type": "code",
   "execution_count": 28,
   "metadata": {
    "collapsed": false
   },
   "outputs": [
    {
     "data": {
      "text/plain": [
       "0.34527785468109107"
      ]
     },
     "execution_count": 28,
     "metadata": {},
     "output_type": "execute_result"
    }
   ],
   "source": []
  },
  {
   "cell_type": "code",
   "execution_count": 21,
   "metadata": {
    "collapsed": false
   },
   "outputs": [
    {
     "data": {
      "text/html": [
       "<div>\n",
       "<table border=\"1\" class=\"dataframe\">\n",
       "  <thead>\n",
       "    <tr style=\"text-align: right;\">\n",
       "      <th></th>\n",
       "    </tr>\n",
       "  </thead>\n",
       "  <tbody>\n",
       "  </tbody>\n",
       "</table>\n",
       "</div>"
      ],
      "text/plain": [
       "Empty DataFrame\n",
       "Columns: []\n",
       "Index: []"
      ]
     },
     "execution_count": 21,
     "metadata": {},
     "output_type": "execute_result"
    }
   ],
   "source": [
    "import pandas as pd\n",
    "\n",
    "pd.DataFrame(rows)"
   ]
  },
  {
   "cell_type": "code",
   "execution_count": null,
   "metadata": {
    "collapsed": true
   },
   "outputs": [],
   "source": []
  }
 ],
 "metadata": {
  "kernelspec": {
   "display_name": "Python 3",
   "language": "python",
   "name": "python3"
  },
  "language_info": {
   "codemirror_mode": {
    "name": "ipython",
    "version": 3
   },
   "file_extension": ".py",
   "mimetype": "text/x-python",
   "name": "python",
   "nbconvert_exporter": "python",
   "pygments_lexer": "ipython3",
   "version": "3.6.0"
  }
 },
 "nbformat": 4,
 "nbformat_minor": 2
}
